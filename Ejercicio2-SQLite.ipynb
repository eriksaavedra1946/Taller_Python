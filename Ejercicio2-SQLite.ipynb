{
 "cells": [
  {
   "cell_type": "code",
   "execution_count": 63,
   "id": "620672f7",
   "metadata": {},
   "outputs": [
    {
     "name": "stdout",
     "output_type": "stream",
     "text": [
      "Registros en Tabla: ---> (5000,)\n",
      "--------------------------------\n",
      "--------------------------------\n",
      "Referencias de Audi Automóvil\n",
      "--------------------------------\n",
      "('AUDI', '100')\n",
      "('AUDI', '80')\n",
      "('AUDI', '90')\n",
      "('AUDI', 'A1')\n",
      "('AUDI', 'A1 SPORTBACK')\n",
      "('AUDI', 'A3')\n",
      "('AUDI', 'A4')\n",
      "('AUDI', 'A5')\n",
      "('AUDI', 'A6')\n",
      "('AUDI', 'A7')\n",
      "('AUDI', 'A8')\n",
      "('AUDI', 'CABRIOLET')\n",
      "('AUDI', 'R8')\n",
      "('AUDI', 'RS6')\n",
      "('AUDI', 'S3')\n",
      "('AUDI', 'S4')\n",
      "('AUDI', 'S5')\n",
      "('AUDI', 'S6')\n",
      "('AUDI', 'TT')\n",
      "('AUDI', 'TTS')\n",
      "--------------------------------\n",
      "Conteo Particular y Publico != Motos\n",
      "--------------------------------\n",
      "('Particular', 3392)\n",
      "('Publico', 1069)\n"
     ]
    }
   ],
   "source": [
    "# Importar librería SQLite\n",
    "import sqlite3\n",
    "\n",
    "#Objeto de Conexión a SQLite\n",
    "\n",
    "con = sqlite3.connect(\"fasecolda.db\") # <---- Para correr en maquinas locales, cambiar el path de ubicación de fasecolda.db\n",
    "\n",
    "#Crea un objeto cursos y se le asigna la conexión\n",
    "cur = con.cursor()\n",
    "\n",
    "#Se itera por fila el resltado del cursor\n",
    "\n",
    "#Consulta 1 Cantidad de registros en tabla\n",
    "for row in cur.execute('SELECT COUNT(1) FROM guia_fasecolda;'):\n",
    "    print(\"Registros en Tabla: ---> \" + str(row))\n",
    "\n",
    "print(\"--------------------------------\")    \n",
    "\n",
    "#Consulta #2 ---> Referencias de AUDI AUTOMOVIL\n",
    "\n",
    "print(\"--------------------------------\")\n",
    "print(\"Referencias de Audi Automóvil\")\n",
    "print(\"--------------------------------\")\n",
    "for row in cur.execute('SELECT Marca, Referencia1 FROM guia_fasecolda WHERE Marca = \"AUDI\" AND Clase = \"AUTOMOVIL\" GROUP BY Marca, Referencia1'):\n",
    "    print(row)\n",
    "    \n",
    "\n",
    "#Consulta #3 ---> Cantidad de Vehiculos Publicos y Particulares Diferentes a Motocicleta y Motocarro\n",
    "\n",
    "print(\"--------------------------------\")\n",
    "print(\"Conteo Particular y Publico != Motos\")\n",
    "print(\"--------------------------------\")\n",
    "for row in cur.execute('SELECT Servicio, COUNT(servicio) FROM guia_fasecolda WHERE Clase NOT IN (\"MOTOCICLETA\", \"MOTOCARRO\") GROUP BY Servicio'):\n",
    "    print(row)\n",
    "\n",
    "#Cerrar la conexión\n",
    "con.close()\n",
    "\n",
    "##"
   ]
  },
  {
   "cell_type": "code",
   "execution_count": null,
   "id": "77f71a20",
   "metadata": {},
   "outputs": [],
   "source": []
  }
 ],
 "metadata": {
  "kernelspec": {
   "display_name": "Python 3 (ipykernel)",
   "language": "python",
   "name": "python3"
  },
  "language_info": {
   "codemirror_mode": {
    "name": "ipython",
    "version": 3
   },
   "file_extension": ".py",
   "mimetype": "text/x-python",
   "name": "python",
   "nbconvert_exporter": "python",
   "pygments_lexer": "ipython3",
   "version": "3.9.7"
  }
 },
 "nbformat": 4,
 "nbformat_minor": 5
}
