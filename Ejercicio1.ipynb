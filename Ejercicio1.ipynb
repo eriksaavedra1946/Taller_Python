{
 "cells": [
  {
   "cell_type": "code",
   "execution_count": 1,
   "id": "c890304d",
   "metadata": {},
   "outputs": [
    {
     "name": "stdout",
     "output_type": "stream",
     "text": [
      "Python: 3.9.7 (default, Sep 16 2021, 16:59:28) [MSC v.1916 64 bit (AMD64)]\n",
      "sklearn: 0.24.2\n",
      "scipy: 1.7.1\n",
      "numpy: 1.20.3\n",
      "matplotlib: 3.4.3\n",
      "pandas: 1.3.4\n",
      "sklearn: 0.24.2\n"
     ]
    }
   ],
   "source": [
    "#@Taller 1 - Aprendizaje Automático - Erik Saavedra\n",
    "# Python version\n",
    "import sys\n",
    "print('Python: {}'.format(sys.version))\n",
    "\n",
    "import sklearn\n",
    "print('sklearn: {}'.format(sklearn.__version__))\n",
    "# scipy\n",
    "import scipy\n",
    "print('scipy: {}'.format(scipy.__version__))\n",
    "# numpy\n",
    "import numpy\n",
    "print('numpy: {}'.format(numpy.__version__))\n",
    "# matplotlib\n",
    "import matplotlib\n",
    "print('matplotlib: {}'.format(matplotlib.__version__))\n",
    "# pandas\n",
    "import pandas\n",
    "print('pandas: {}'.format(pandas.__version__))\n",
    "# scikit-learn\n",
    "import sklearn\n",
    "print('sklearn: {}'.format(sklearn.__version__))"
   ]
  },
  {
   "cell_type": "code",
   "execution_count": 2,
   "id": "f571e324",
   "metadata": {},
   "outputs": [
    {
     "name": "stdout",
     "output_type": "stream",
     "text": [
      "Vector1[3 4 2 8 6 6 3 1 5 3]\n",
      "----------------------------------------------------\n",
      "Vector2[ 9  1 10 10  2 10  6  1  9  2]\n",
      "----------------------------------------------------\n",
      "Suma de vectores: [12  5 12 18  8 16  9  2 14  5]\n",
      "----------------------------------------------------\n",
      "Vectores Concatenados: [ 3  4  2  8  6  6  3  1  5  3  9  1 10 10  2 10  6  1  9  2]\n",
      "----------------------------------------------------\n",
      "Sumatoria vectores Concatenados: 101\n",
      "----------------------------------------------------\n",
      "Media vectores Concatenados: 5.05\n",
      "----------------------------------------------------\n",
      "Números >5 en vectores Concatenados: [ 8  6  6  9 10 10 10  6  9]\n",
      "----------------------------------------------------\n",
      "Posiciones con números iguales en vectores: [[7]]\n"
     ]
    }
   ],
   "source": [
    "import random\n",
    "import numpy as np\n",
    "\n",
    "#crea 2 vectores con 10 números random del 1 al 10\n",
    "vector1 = np.array(np.random.randint(1,11,10))\n",
    "\n",
    "vector2 = np.array(np.random.randint(1,11,10))\n",
    "\n",
    "#Suma los valores de los dos vectores\n",
    "sumvectors = vector1 + vector2\n",
    "\n",
    "#Concatena los dos vectores\n",
    "concatenar = np.concatenate((vector1, vector2),)\n",
    "\n",
    "#Sumatoria de los elementos concatenados\n",
    "sumatoria = np.sum(concatenar)\n",
    "\n",
    "#Media de los valores\n",
    "media = np.mean(concatenar)\n",
    "\n",
    "#numeros mayores que 5\n",
    "mayor = np.array(concatenar > 5)\n",
    "\n",
    "#Comparar números en posiciones\n",
    "comparar = np.array(np.where(vector1==vector2))\n",
    "\n",
    "\n",
    "#Resultados\n",
    "print('Vector1' + str(vector1))\n",
    "print('----------------------------------------------------')\n",
    "print('Vector2' + str(vector2))\n",
    "print('----------------------------------------------------')\n",
    "print('Suma de vectores: ' + str(sumvectors))\n",
    "print('----------------------------------------------------')\n",
    "print('Vectores Concatenados: ' + str(concatenar))\n",
    "print('----------------------------------------------------')\n",
    "print('Sumatoria vectores Concatenados: ' + str(sumatoria))\n",
    "print('----------------------------------------------------')\n",
    "print('Media vectores Concatenados: ' + str(media))\n",
    "print('----------------------------------------------------')\n",
    "print('Números >5 en vectores Concatenados: ' + str(concatenar[mayor]))\n",
    "print('----------------------------------------------------')\n",
    "print('Posiciones con números iguales en vectores: ' + str(comparar))\n",
    "\n",
    "\n",
    "\n",
    "\n"
   ]
  }
 ],
 "metadata": {
  "kernelspec": {
   "display_name": "Python 3 (ipykernel)",
   "language": "python",
   "name": "python3"
  },
  "language_info": {
   "codemirror_mode": {
    "name": "ipython",
    "version": 3
   },
   "file_extension": ".py",
   "mimetype": "text/x-python",
   "name": "python",
   "nbconvert_exporter": "python",
   "pygments_lexer": "ipython3",
   "version": "3.9.7"
  }
 },
 "nbformat": 4,
 "nbformat_minor": 5
}
